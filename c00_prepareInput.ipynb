{
 "cells": [
  {
   "cell_type": "code",
   "execution_count": 1,
   "id": "21aeeab4",
   "metadata": {
    "execution": {
     "iopub.execute_input": "2023-02-06T19:05:06.019965Z",
     "iopub.status.busy": "2023-02-06T19:05:06.019489Z",
     "iopub.status.idle": "2023-02-06T19:05:11.973901Z",
     "shell.execute_reply": "2023-02-06T19:05:11.972903Z"
    }
   },
   "outputs": [],
   "source": [
    "import pandas as pd\n",
    "import numpy as np\n",
    "import matplotlib.pyplot as plt\n",
    "import anndata\n",
    "import scanpy as sc\n",
    "from scipy import sparse"
   ]
  },
  {
   "cell_type": "code",
   "execution_count": 2,
   "id": "2ab1dc79",
   "metadata": {
    "execution": {
     "iopub.execute_input": "2023-02-06T19:05:11.980683Z",
     "iopub.status.busy": "2023-02-06T19:05:11.979688Z",
     "iopub.status.idle": "2023-02-06T19:05:11.986914Z",
     "shell.execute_reply": "2023-02-06T19:05:11.986114Z"
    }
   },
   "outputs": [],
   "source": [
    "sc.settings.verbosity = 3"
   ]
  },
  {
   "cell_type": "markdown",
   "id": "3c5a6809",
   "metadata": {},
   "source": [
    "prepare data for fetal kidney"
   ]
  },
  {
   "cell_type": "code",
   "execution_count": 3,
   "id": "4db9ce32",
   "metadata": {
    "execution": {
     "iopub.execute_input": "2023-02-06T19:05:11.991653Z",
     "iopub.status.busy": "2023-02-06T19:05:11.991283Z",
     "iopub.status.idle": "2023-02-06T19:14:10.030471Z",
     "shell.execute_reply": "2023-02-06T19:14:10.028807Z"
    }
   },
   "outputs": [
    {
     "name": "stdout",
     "output_type": "stream",
     "text": [
      "normalizing counts per cell\n",
      "    finished (0:00:00)\n"
     ]
    }
   ],
   "source": [
    "adata = sc.read_h5ad(\"/home/levinsj/Fetal_dir/CellBenderCorrected/04_annotated/MergedFetalOnly_annotated_clean_final.h5ad\")\n",
    "adata.X = adata.layers[\"counts\"]\n",
    "\n",
    "sc.pp.normalize_total(adata, target_sum=1e4)\n",
    "\n",
    "M = sparse.csr_matrix(adata.X.T)\n",
    "f = M.todense()\n",
    "A = np.squeeze(np.asarray(f))\n",
    "DF = pd.DataFrame(A, columns=adata.obs_names, index = adata.var.gene_ids)\n",
    "DF_HV = DF.loc[adata.var.gene_ids[adata.var.highly_variable == True],]\n",
    "DF_HV.to_csv('/home/levinsj/Fetal_dir/cellPhoneDB/MergedFetalOnly_mtx.txt', sep=\"\\t\")\n"
   ]
  },
  {
   "cell_type": "code",
   "execution_count": 4,
   "id": "ac12763c",
   "metadata": {
    "execution": {
     "iopub.execute_input": "2023-02-06T19:14:10.039200Z",
     "iopub.status.busy": "2023-02-06T19:14:10.038667Z",
     "iopub.status.idle": "2023-02-06T19:14:10.180047Z",
     "shell.execute_reply": "2023-02-06T19:14:10.178996Z"
    }
   },
   "outputs": [],
   "source": [
    "df_meta = pd.DataFrame(data={'Cell':list(adata.obs.index),\n",
    "                             'cellType':[ i for i in adata.obs['cellType']]})\n",
    "df_meta.set_index('Cell', inplace=True)\n",
    "df_meta.to_csv('/home/levinsj/Fetal_dir/cellPhoneDB/MergedFetalOnly_annotated_Counts_metaData.csv', sep = ',')"
   ]
  },
  {
   "cell_type": "markdown",
   "id": "bea1580e",
   "metadata": {},
   "source": [
    "Now for adult data"
   ]
  },
  {
   "cell_type": "code",
   "execution_count": 5,
   "id": "94ca1ec1",
   "metadata": {
    "execution": {
     "iopub.execute_input": "2023-02-06T19:14:10.186677Z",
     "iopub.status.busy": "2023-02-06T19:14:10.186212Z",
     "iopub.status.idle": "2023-02-06T19:15:20.569219Z",
     "shell.execute_reply": "2023-02-06T19:15:20.567574Z"
    }
   },
   "outputs": [
    {
     "name": "stdout",
     "output_type": "stream",
     "text": [
      "normalizing counts per cell\n",
      "    finished (0:00:00)\n"
     ]
    }
   ],
   "source": [
    "adata = sc.read_h5ad(\"/home/levinsj/Fetal_dir/CellBenderCorrected/04_annotated/MergedAdultOnly_annotated_clean_final.h5ad\")\n",
    "adata.X = adata.layers[\"counts\"]\n",
    "\n",
    "sc.pp.normalize_total(adata, target_sum=1e4)\n",
    "\n",
    "M = sparse.csr_matrix(adata.X.T)\n",
    "f = M.todense()\n",
    "A = np.squeeze(np.asarray(f))\n",
    "DF = pd.DataFrame(A, columns=adata.obs_names, index = adata.var.gene_ids)\n",
    "DF_HV = DF.loc[adata.var.gene_ids[adata.var.highly_variable == True],]\n",
    "DF_HV.to_csv('/home/levinsj/Fetal_dir/cellPhoneDB/MergedAdultOnly_mtx.txt', sep=\"\\t\")"
   ]
  },
  {
   "cell_type": "code",
   "execution_count": 6,
   "id": "af8b3610",
   "metadata": {
    "execution": {
     "iopub.execute_input": "2023-02-06T19:15:20.576752Z",
     "iopub.status.busy": "2023-02-06T19:15:20.576262Z",
     "iopub.status.idle": "2023-02-06T19:15:20.631583Z",
     "shell.execute_reply": "2023-02-06T19:15:20.630508Z"
    }
   },
   "outputs": [],
   "source": [
    "df_meta = pd.DataFrame(data={'Cell':list(adata.obs.index),\n",
    "                             'cellType':[ i for i in adata.obs['cellType']]})\n",
    "df_meta.set_index('Cell', inplace=True)\n",
    "df_meta.to_csv('/home/levinsj/Fetal_dir/cellPhoneDB/MergedAdultOnly_annotated_Counts_metaData.csv', sep = ',')"
   ]
  },
  {
   "cell_type": "code",
   "execution_count": 7,
   "id": "198546cd",
   "metadata": {
    "execution": {
     "iopub.execute_input": "2023-02-06T19:15:20.637873Z",
     "iopub.status.busy": "2023-02-06T19:15:20.637431Z",
     "iopub.status.idle": "2023-02-06T19:15:23.572335Z",
     "shell.execute_reply": "2023-02-06T19:15:23.571032Z"
    }
   },
   "outputs": [
    {
     "name": "stdout",
     "output_type": "stream",
     "text": [
      "anndata==0.8.0\r\n",
      "annoy==1.17.1\r\n",
      "anyio==3.6.2\r\n",
      "argon2-cffi==21.3.0\r\n",
      "argon2-cffi-bindings==21.2.0\r\n",
      "arrow==1.2.3\r\n",
      "asttokens==2.2.1\r\n",
      "attrs==22.2.0\r\n",
      "backcall==0.2.0\r\n",
      "beautifulsoup4==4.11.1\r\n",
      "bleach==5.0.1\r\n",
      "cffi==1.15.1\r\n",
      "click==8.1.3\r\n",
      "comm==0.1.2\r\n",
      "contourpy==1.0.7\r\n",
      "cycler==0.11.0\r\n",
      "Cython==0.29.33\r\n",
      "debugpy==1.6.5\r\n",
      "decorator==5.1.1\r\n",
      "defusedxml==0.7.1\r\n",
      "entrypoints==0.4\r\n",
      "executing==1.2.0\r\n",
      "fastjsonschema==2.16.2\r\n",
      "fonttools==4.38.0\r\n",
      "fqdn==1.5.1\r\n",
      "h5py==3.7.0\r\n",
      "harmonypy==0.0.9\r\n",
      "idna==3.4\r\n",
      "igraph==0.9.11\r\n",
      "imageio==2.24.0\r\n",
      "importlib-metadata==6.0.0\r\n",
      "importlib-resources==5.10.2\r\n",
      "ipykernel==6.20.2\r\n",
      "ipython==8.8.0\r\n",
      "ipython-genutils==0.2.0\r\n",
      "ipywidgets==8.0.4\r\n",
      "isoduration==20.11.0\r\n",
      "jedi==0.18.2\r\n",
      "Jinja2==3.1.2\r\n",
      "joblib==1.2.0\r\n",
      "jsonpointer==2.3\r\n",
      "jsonschema==4.17.3\r\n",
      "jupyter==1.0.0\r\n",
      "jupyter-console==6.4.4\r\n",
      "jupyter-events==0.6.3\r\n",
      "jupyter_client==7.4.9\r\n",
      "jupyter_core==5.1.3\r\n",
      "jupyter_server==2.1.0\r\n",
      "jupyter_server_terminals==0.4.4\r\n",
      "jupyterlab-pygments==0.2.2\r\n",
      "jupyterlab-widgets==3.0.5\r\n",
      "kiwisolver==1.4.4\r\n",
      "leidenalg==0.8.10\r\n",
      "llvmlite==0.39.1\r\n",
      "loompy==3.0.7\r\n",
      "MarkupSafe==2.1.2\r\n",
      "matplotlib==3.6.3\r\n",
      "matplotlib-inline==0.1.6\r\n",
      "mistune==2.0.4\r\n",
      "natsort==8.2.0\r\n",
      "nbclassic==0.4.8\r\n",
      "nbclient==0.7.2\r\n",
      "nbconvert==7.2.8\r\n",
      "nbformat==5.7.3\r\n",
      "nest-asyncio==1.5.6\r\n",
      "networkx==3.0\r\n",
      "notebook==6.5.2\r\n",
      "notebook_shim==0.2.2\r\n",
      "numba==0.56.4\r\n",
      "numpy==1.21.5\r\n",
      "numpy-groupies==0.9.20\r\n",
      "packaging==23.0\r\n",
      "pandas==1.4.3\r\n",
      "pandocfilters==1.5.0\r\n",
      "parso==0.8.3\r\n",
      "patsy==0.5.3\r\n",
      "pexpect==4.8.0\r\n",
      "pickleshare==0.7.5\r\n",
      "Pillow==9.4.0\r\n",
      "pkgutil_resolve_name==1.3.10\r\n",
      "platformdirs==2.6.2\r\n",
      "prometheus-client==0.15.0\r\n",
      "prompt-toolkit==3.0.36\r\n",
      "psutil==5.9.4\r\n",
      "ptyprocess==0.7.0\r\n",
      "pure-eval==0.2.2\r\n",
      "pycparser==2.21\r\n",
      "Pygments==2.14.0\r\n",
      "pynndescent==0.5.7\r\n",
      "pyparsing==3.0.9\r\n",
      "pyrsistent==0.19.3\r\n",
      "python-dateutil==2.8.2\r\n",
      "python-igraph==0.9.11\r\n",
      "python-json-logger==2.0.4\r\n",
      "pytz==2022.7.1\r\n",
      "PyWavelets==1.4.1\r\n",
      "PyYAML==6.0\r\n",
      "pyzmq==25.0.0\r\n",
      "qtconsole==5.4.0\r\n",
      "QtPy==2.3.0\r\n",
      "rfc3339-validator==0.1.4\r\n",
      "rfc3986-validator==0.1.1\r\n",
      "scanpy==1.9.1\r\n",
      "scikit-image==0.19.3\r\n",
      "scikit-learn==1.1.2\r\n",
      "scipy==1.9.0\r\n",
      "scrublet==0.2.3\r\n",
      "scvelo==0.2.5\r\n",
      "seaborn==0.12.2\r\n",
      "Send2Trash==1.8.0\r\n",
      "session-info==1.0.0\r\n",
      "six==1.16.0\r\n",
      "sniffio==1.3.0\r\n",
      "soupsieve==2.3.2.post1\r\n",
      "stack-data==0.6.2\r\n",
      "statsmodels==0.13.2\r\n",
      "stdlib-list==0.8.0\r\n",
      "terminado==0.17.1\r\n",
      "texttable==1.6.7\r\n",
      "threadpoolctl==3.1.0\r\n",
      "tifffile==2022.10.10\r\n",
      "tinycss2==1.2.1\r\n",
      "tornado==6.2\r\n",
      "tqdm==4.64.1\r\n",
      "traitlets==5.8.1\r\n",
      "typing_extensions==4.4.0\r\n",
      "umap-learn==0.5.3\r\n",
      "uri-template==1.2.0\r\n",
      "wcwidth==0.2.6\r\n",
      "webcolors==1.12\r\n",
      "webencodings==0.5.1\r\n",
      "websocket-client==1.4.2\r\n",
      "widgetsnbextension==4.0.5\r\n",
      "zipp==3.11.0\r\n"
     ]
    }
   ],
   "source": [
    "!pip freeze"
   ]
  }
 ],
 "metadata": {
  "kernelspec": {
   "display_name": "Python 3 (ipykernel)",
   "language": "python",
   "name": "python3"
  },
  "language_info": {
   "codemirror_mode": {
    "name": "ipython",
    "version": 3
   },
   "file_extension": ".py",
   "mimetype": "text/x-python",
   "name": "python",
   "nbconvert_exporter": "python",
   "pygments_lexer": "ipython3",
   "version": "3.9.1"
  }
 },
 "nbformat": 4,
 "nbformat_minor": 5
}
