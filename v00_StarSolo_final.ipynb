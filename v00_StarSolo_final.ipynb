{
 "cells": [
  {
   "cell_type": "code",
   "execution_count": 1,
   "id": "e984312d",
   "metadata": {
    "execution": {
     "iopub.execute_input": "2022-12-31T18:26:54.622267Z",
     "iopub.status.busy": "2022-12-31T18:26:54.621538Z",
     "iopub.status.idle": "2022-12-31T18:27:04.383995Z",
     "shell.execute_reply": "2022-12-31T18:27:04.382613Z"
    },
    "scrolled": true
   },
   "outputs": [
    {
     "name": "stdout",
     "output_type": "stream",
     "text": [
      "Currently Loaded Modulefiles:\r\n",
      "  1) hdf5/1.8.21        5) jre/1.8.0_71       9) rsem/1.3\r\n",
      "  2) libtool/2.4.6      6) fastqc/0.11.7     10) picard/1.96\r\n",
      "  3) python/3.9.1       7) trimgalore/0.4.5  11) samtools/1.11\r\n",
      "  4) boost/1.57.0       8) STAR/2.7.9a       12) gcc/4.9.4\r\n"
     ]
    }
   ],
   "source": [
    "import pandas as pd\n",
    "import numpy as np\n",
    "import matplotlib.pyplot as plt\n",
    "\n",
    "!module list"
   ]
  },
  {
   "cell_type": "markdown",
   "id": "313606c5",
   "metadata": {},
   "source": [
    "#Previously run: ##do not change!\n",
    "Generating an index\n",
    "outFile=\"/home/levinsj/Applications/starIdx\" fasta=\"/home/levinsj/Applications/refdata-cellranger-arc-GRCh38-2020-A-2.0.0/fasta/genome.fa\" gtf=\"/home/levinsj/Applications/refdata-cellranger-arc-GRCh38-2020-A-2.0.0/genes/genes.gtf\"\n",
    "\n",
    "!STAR --runMode genomeGenerate --genomeDir {outFile}\n",
    "--genomeFastaFiles {fasta}\n",
    "--sjdbGTFfile {gtf}\n",
    "--sjdbOverhang 50 --outFileNamePrefix idx"
   ]
  },
  {
   "cell_type": "code",
   "execution_count": 2,
   "id": "639d8496",
   "metadata": {
    "execution": {
     "iopub.execute_input": "2022-12-31T18:27:04.388075Z",
     "iopub.status.busy": "2022-12-31T18:27:04.387555Z",
     "iopub.status.idle": "2023-01-01T02:45:55.728151Z",
     "shell.execute_reply": "2023-01-01T02:45:55.725549Z"
    }
   },
   "outputs": [
    {
     "name": "stdout",
     "output_type": "stream",
     "text": [
      "\tSTAR --genomeDir /home/levinsj/Applications/starIdx/ --readFilesIn /home/levinsj/Fetal_dir/bustools/5647-KS-1_S1_L001_R2_001.fastq.gz /home/levinsj/Fetal_dir/bustools/5647-KS-1_S1_L001_R1_001.fastq.gz --soloFeatures Gene Velocyto --soloType CB_UMI_Simple --outFilterScoreMin 30 --soloUMIlen 12 --outFileNamePrefix /home/levinsj/Fetal_dir/Velocyto/00_StarSolo/HK2716 --soloCBwhitelist /home/levinsj/Applications/human_GRCh38_gencode.v31.600/10xv3_whitelist.txt --readFilesCommand zcat --soloBarcodeReadLength 0 --limitOutSJcollapsed 2000000\r\n",
      "\tSTAR version: 2.7.9a   compiled: 2021-08-10T12:52:38-0400 revan:/misc/appl/src/STAR-2.7.9a/STAR-2.7.9a/source\r\n",
      "Dec 31 13:27:06 ..... started STAR run\r\n",
      "Dec 31 13:27:07 ..... loading genome\r\n",
      "Dec 31 13:27:38 ..... started mapping\r\n",
      "Dec 31 21:31:39 ..... finished mapping\r\n",
      "Dec 31 21:31:41 ..... started Solo counting\r\n",
      "Dec 31 21:45:54 ..... finished Solo counting\r\n",
      "Dec 31 21:45:54 ..... finished successfully\r\n"
     ]
    }
   ],
   "source": [
    "#HK2716\n",
    "#5647-KS-1\n",
    "genomeDir=\"/home/levinsj/Applications/starIdx/\"\n",
    "#Read2_fastq_gz=\"~/Fetal_dir/bustools/EH678AC6P6_HK2770_cell_cntrl_GEX_E8_S6_L001_R2_001.fastq.gz\"\n",
    "Read2_fastq_gz=\"~/Fetal_dir/bustools/5647-KS-1_S1_L001_R2_001.fastq.gz\"\n",
    "#Read1_fastq_gz=\"~/Fetal_dir/bustools/EH678AC6P6_HK2770_cell_cntrl_GEX_E8_S6_L001_R1_001.fastq.gz\"\n",
    "Read1_fastq_gz=\"~/Fetal_dir/bustools/5647-KS-1_S1_L001_R1_001.fastq.gz\"\n",
    "outputFile=\"/home/levinsj/Fetal_dir/Velocyto/00_StarSolo/\"\n",
    "sampleName=\"HK2716\"\n",
    "whiteList=\"/home/levinsj/Applications/human_GRCh38_gencode.v31.600/10xv3_whitelist.txt\"\n",
    "\n",
    "!STAR --genomeDir {genomeDir} --readFilesIn {Read2_fastq_gz} {Read1_fastq_gz} \\\n",
    "--soloFeatures Gene Velocyto --soloType CB_UMI_Simple \\\n",
    "--outFilterScoreMin 30 --soloUMIlen 12\\\n",
    "--outFileNamePrefix {outputFile}{sampleName} --soloCBwhitelist {whiteList} --readFilesCommand zcat \\\n",
    "--soloBarcodeReadLength 0 --limitOutSJcollapsed 2000000\n"
   ]
  },
  {
   "cell_type": "code",
   "execution_count": 3,
   "id": "a799d7ac",
   "metadata": {
    "execution": {
     "iopub.execute_input": "2023-01-01T02:45:55.737845Z",
     "iopub.status.busy": "2023-01-01T02:45:55.737178Z",
     "iopub.status.idle": "2023-01-01T08:42:42.233527Z",
     "shell.execute_reply": "2023-01-01T08:42:42.230929Z"
    }
   },
   "outputs": [
    {
     "name": "stdout",
     "output_type": "stream",
     "text": [
      "\tSTAR --genomeDir /home/levinsj/Applications/starIdx/ --readFilesIn /home/levinsj/Fetal_dir/bustools/5566-ZM-2_S01_L005_R2_001.fastq.gz /home/levinsj/Fetal_dir/bustools/5566-ZM-2_S01_L005_R1_001.fastq.gz --soloFeatures Gene Velocyto --soloType CB_UMI_Simple --outFilterScoreMin 30 --soloUMIlen 12 --outFileNamePrefix /home/levinsj/Fetal_dir/Velocyto/00_StarSolo/HK2718 --soloCBwhitelist /home/levinsj/Applications/human_GRCh38_gencode.v31.600/10xv3_whitelist.txt --readFilesCommand zcat --soloBarcodeReadLength 0 --limitOutSJcollapsed 2000000\r\n",
      "\tSTAR version: 2.7.9a   compiled: 2021-08-10T12:52:38-0400 revan:/misc/appl/src/STAR-2.7.9a/STAR-2.7.9a/source\r\n",
      "Dec 31 21:45:58 ..... started STAR run\r\n",
      "Dec 31 21:46:01 ..... loading genome\r\n",
      "Dec 31 21:47:49 ..... started mapping\r\n",
      "Jan 01 03:34:58 ..... finished mapping\r\n",
      "Jan 01 03:34:59 ..... started Solo counting\r\n",
      "Jan 01 03:42:41 ..... finished Solo counting\r\n",
      "Jan 01 03:42:41 ..... finished successfully\r\n"
     ]
    }
   ],
   "source": [
    "#HK2718\n",
    "#5566-ZM-2\n",
    "genomeDir=\"/home/levinsj/Applications/starIdx/\"\n",
    "#Read2_fastq_gz=\"~/Fetal_dir/bustools/EH678AC6P6_HK2770_cell_cntrl_GEX_E8_S6_L001_R2_001.fastq.gz\"\n",
    "Read2_fastq_gz=\"~/Fetal_dir/bustools/5566-ZM-2_S01_L005_R2_001.fastq.gz\"\n",
    "#Read1_fastq_gz=\"~/Fetal_dir/bustools/EH678AC6P6_HK2770_cell_cntrl_GEX_E8_S6_L001_R1_001.fastq.gz\"\n",
    "Read1_fastq_gz=\"~/Fetal_dir/bustools/5566-ZM-2_S01_L005_R1_001.fastq.gz\"\n",
    "outputFile=\"/home/levinsj/Fetal_dir/Velocyto/00_StarSolo/\"\n",
    "sampleName=\"HK2718\"\n",
    "whiteList=\"/home/levinsj/Applications/human_GRCh38_gencode.v31.600/10xv3_whitelist.txt\"\n",
    "\n",
    "!STAR --genomeDir {genomeDir} --readFilesIn {Read2_fastq_gz} {Read1_fastq_gz} \\\n",
    "--soloFeatures Gene Velocyto --soloType CB_UMI_Simple \\\n",
    "--outFilterScoreMin 30 --soloUMIlen 12\\\n",
    "--outFileNamePrefix {outputFile}{sampleName} --soloCBwhitelist {whiteList} --readFilesCommand zcat \\\n",
    "--soloBarcodeReadLength 0 --limitOutSJcollapsed 2000000\n"
   ]
  },
  {
   "cell_type": "code",
   "execution_count": 4,
   "id": "62efbba8",
   "metadata": {
    "execution": {
     "iopub.execute_input": "2023-01-01T08:42:42.243145Z",
     "iopub.status.busy": "2023-01-01T08:42:42.242507Z",
     "iopub.status.idle": "2023-01-01T15:57:01.254193Z",
     "shell.execute_reply": "2023-01-01T15:57:01.251810Z"
    }
   },
   "outputs": [
    {
     "name": "stdout",
     "output_type": "stream",
     "text": [
      "\tSTAR --genomeDir /home/levinsj/Applications/starIdx/ --readFilesIn /home/levinsj/Fetal_dir/bustools/5647-KS-2_S1_L001_R2_001.fastq.gz /home/levinsj/Fetal_dir/bustools/5647-KS-2_S1_L001_R1_001.fastq.gz --soloFeatures Gene Velocyto --soloType CB_UMI_Simple --outFilterScoreMin 30 --soloUMIlen 12 --outFileNamePrefix /home/levinsj/Fetal_dir/Velocyto/00_StarSolo/HK2722 --soloCBwhitelist /home/levinsj/Applications/human_GRCh38_gencode.v31.600/10xv3_whitelist.txt --readFilesCommand zcat --soloBarcodeReadLength 0 --limitOutSJcollapsed 2000000\r\n",
      "\tSTAR version: 2.7.9a   compiled: 2021-08-10T12:52:38-0400 revan:/misc/appl/src/STAR-2.7.9a/STAR-2.7.9a/source\r\n",
      "Jan 01 03:42:44 ..... started STAR run\r\n",
      "Jan 01 03:42:46 ..... loading genome\r\n",
      "Jan 01 03:43:40 ..... started mapping\r\n",
      "Jan 01 10:40:33 ..... finished mapping\r\n",
      "Jan 01 10:40:35 ..... started Solo counting\r\n",
      "Jan 01 10:56:59 ..... finished Solo counting\r\n",
      "Jan 01 10:56:59 ..... finished successfully\r\n"
     ]
    }
   ],
   "source": [
    "#HK2722\n",
    "#5647-KS-2\n",
    "genomeDir=\"/home/levinsj/Applications/starIdx/\"\n",
    "#Read2_fastq_gz=\"~/Fetal_dir/bustools/EH678AC6P6_HK2770_cell_cntrl_GEX_E8_S6_L001_R2_001.fastq.gz\"\n",
    "Read2_fastq_gz=\"~/Fetal_dir/bustools/5647-KS-2_S1_L001_R2_001.fastq.gz\"\n",
    "#Read1_fastq_gz=\"~/Fetal_dir/bustools/EH678AC6P6_HK2770_cell_cntrl_GEX_E8_S6_L001_R1_001.fastq.gz\"\n",
    "Read1_fastq_gz=\"~/Fetal_dir/bustools/5647-KS-2_S1_L001_R1_001.fastq.gz\"\n",
    "outputFile=\"/home/levinsj/Fetal_dir/Velocyto/00_StarSolo/\"\n",
    "sampleName=\"HK2722\"\n",
    "whiteList=\"/home/levinsj/Applications/human_GRCh38_gencode.v31.600/10xv3_whitelist.txt\"\n",
    "\n",
    "!STAR --genomeDir {genomeDir} --readFilesIn {Read2_fastq_gz} {Read1_fastq_gz} \\\n",
    "--soloFeatures Gene Velocyto --soloType CB_UMI_Simple \\\n",
    "--outFilterScoreMin 30 --soloUMIlen 12\\\n",
    "--outFileNamePrefix {outputFile}{sampleName} --soloCBwhitelist {whiteList} --readFilesCommand zcat \\\n",
    "--soloBarcodeReadLength 0 --limitOutSJcollapsed 2000000\n",
    "\n",
    "#--soloCBmatchWLtype 1MM_multi_Nbase_pseudocounts \n",
    "#--soloCellFilter\n",
    "#--soloUMIfiltering MultiGeneUMI_CR\n",
    "#--soloUMIdedup 1MM_CRR \n",
    "#\n"
   ]
  },
  {
   "cell_type": "code",
   "execution_count": 5,
   "id": "aec1cc13",
   "metadata": {
    "execution": {
     "iopub.execute_input": "2023-01-01T15:57:01.263348Z",
     "iopub.status.busy": "2023-01-01T15:57:01.262566Z",
     "iopub.status.idle": "2023-01-01T21:53:26.216858Z",
     "shell.execute_reply": "2023-01-01T21:53:26.214624Z"
    }
   },
   "outputs": [
    {
     "name": "stdout",
     "output_type": "stream",
     "text": [
      "\tSTAR --genomeDir /home/levinsj/Applications/starIdx/ --readFilesIn /home/levinsj/Fetal_dir/bustools/5647-KS-3_S1_L001_R2_001.fastq.gz /home/levinsj/Fetal_dir/bustools/5647-KS-3_S1_L001_R1_001.fastq.gz --soloFeatures Gene Velocyto --soloType CB_UMI_Simple --outFilterScoreMin 30 --soloUMIlen 12 --outFileNamePrefix /home/levinsj/Fetal_dir/Velocyto/00_StarSolo/HK2723 --soloCBwhitelist /home/levinsj/Applications/human_GRCh38_gencode.v31.600/10xv3_whitelist.txt --readFilesCommand zcat --soloBarcodeReadLength 0 --limitOutSJcollapsed 2000000\r\n",
      "\tSTAR version: 2.7.9a   compiled: 2021-08-10T12:52:38-0400 revan:/misc/appl/src/STAR-2.7.9a/STAR-2.7.9a/source\r\n",
      "Jan 01 10:57:03 ..... started STAR run\r\n",
      "Jan 01 10:57:07 ..... loading genome\r\n",
      "Jan 01 11:00:20 ..... started mapping\r\n",
      "Jan 01 16:45:00 ..... finished mapping\r\n",
      "Jan 01 16:45:02 ..... started Solo counting\r\n",
      "Jan 01 16:53:25 ..... finished Solo counting\r\n",
      "Jan 01 16:53:25 ..... finished successfully\r\n"
     ]
    }
   ],
   "source": [
    "#HK2723\n",
    "#5647-KS-3\n",
    "\n",
    "genomeDir=\"/home/levinsj/Applications/starIdx/\"\n",
    "#Read2_fastq_gz=\"~/Fetal_dir/bustools/EH678AC6P6_HK2770_cell_cntrl_GEX_E8_S6_L001_R2_001.fastq.gz\"\n",
    "Read2_fastq_gz=\"~/Fetal_dir/bustools/5647-KS-3_S1_L001_R2_001.fastq.gz\"\n",
    "#Read1_fastq_gz=\"~/Fetal_dir/bustools/EH678AC6P6_HK2770_cell_cntrl_GEX_E8_S6_L001_R1_001.fastq.gz\"\n",
    "Read1_fastq_gz=\"~/Fetal_dir/bustools/5647-KS-3_S1_L001_R1_001.fastq.gz\"\n",
    "outputFile=\"/home/levinsj/Fetal_dir/Velocyto/00_StarSolo/\"\n",
    "sampleName=\"HK2723\"\n",
    "whiteList=\"/home/levinsj/Applications/human_GRCh38_gencode.v31.600/10xv3_whitelist.txt\"\n",
    "\n",
    "!STAR --genomeDir {genomeDir} --readFilesIn {Read2_fastq_gz} {Read1_fastq_gz} \\\n",
    "--soloFeatures Gene Velocyto --soloType CB_UMI_Simple \\\n",
    "--outFilterScoreMin 30 --soloUMIlen 12\\\n",
    "--outFileNamePrefix {outputFile}{sampleName} --soloCBwhitelist {whiteList} --readFilesCommand zcat \\\n",
    "--soloBarcodeReadLength 0 --limitOutSJcollapsed 2000000\n"
   ]
  },
  {
   "cell_type": "code",
   "execution_count": 6,
   "id": "0bd3d772",
   "metadata": {
    "execution": {
     "iopub.execute_input": "2023-01-01T21:53:26.225900Z",
     "iopub.status.busy": "2023-01-01T21:53:26.225469Z",
     "iopub.status.idle": "2023-01-02T02:47:31.067838Z",
     "shell.execute_reply": "2023-01-02T02:47:31.065321Z"
    }
   },
   "outputs": [
    {
     "name": "stdout",
     "output_type": "stream",
     "text": [
      "\tSTAR --genomeDir /home/levinsj/Applications/starIdx/ --readFilesIn /home/levinsj/Fetal_dir/bustools/5738-KS-7_S425_L005_R2_001.fastq.gz /home/levinsj/Fetal_dir/bustools/5738-KS-7_S425_L005_R1_001.fastq.gz --soloFeatures Gene Velocyto --soloType CB_UMI_Simple --outFilterScoreMin 30 --soloUMIlen 12 --outFileNamePrefix /home/levinsj/Fetal_dir/Velocyto/00_StarSolo/HK2725 --soloCBwhitelist /home/levinsj/Applications/human_GRCh38_gencode.v31.600/10xv3_whitelist.txt --readFilesCommand zcat --soloBarcodeReadLength 0 --limitOutSJcollapsed 2000000\r\n",
      "\tSTAR version: 2.7.9a   compiled: 2021-08-10T12:52:38-0400 revan:/misc/appl/src/STAR-2.7.9a/STAR-2.7.9a/source\r\n",
      "Jan 01 16:53:28 ..... started STAR run\r\n",
      "Jan 01 16:53:32 ..... loading genome\r\n",
      "Jan 01 16:55:26 ..... started mapping\r\n",
      "Jan 01 21:39:03 ..... finished mapping\r\n",
      "Jan 01 21:39:04 ..... started Solo counting\r\n",
      "Jan 01 21:47:29 ..... finished Solo counting\r\n",
      "Jan 01 21:47:29 ..... finished successfully\r\n"
     ]
    }
   ],
   "source": [
    "#HK2725\n",
    "#5738-KS-7\n",
    "\n",
    "genomeDir=\"/home/levinsj/Applications/starIdx/\"\n",
    "#Read2_fastq_gz=\"~/Fetal_dir/bustools/EH678AC6P6_HK2770_cell_cntrl_GEX_E8_S6_L001_R2_001.fastq.gz\"\n",
    "Read2_fastq_gz=\"~/Fetal_dir/bustools/5738-KS-7_S425_L005_R2_001.fastq.gz\"\n",
    "#Read1_fastq_gz=\"~/Fetal_dir/bustools/EH678AC6P6_HK2770_cell_cntrl_GEX_E8_S6_L001_R1_001.fastq.gz\"\n",
    "Read1_fastq_gz=\"~/Fetal_dir/bustools/5738-KS-7_S425_L005_R1_001.fastq.gz\"\n",
    "outputFile=\"/home/levinsj/Fetal_dir/Velocyto/00_StarSolo/\"\n",
    "sampleName=\"HK2725\"\n",
    "whiteList=\"/home/levinsj/Applications/human_GRCh38_gencode.v31.600/10xv3_whitelist.txt\"\n",
    "\n",
    "!STAR --genomeDir {genomeDir} --readFilesIn {Read2_fastq_gz} {Read1_fastq_gz} \\\n",
    "--soloFeatures Gene Velocyto --soloType CB_UMI_Simple \\\n",
    "--outFilterScoreMin 30 --soloUMIlen 12\\\n",
    "--outFileNamePrefix {outputFile}{sampleName} --soloCBwhitelist {whiteList} --readFilesCommand zcat \\\n",
    "--soloBarcodeReadLength 0 --limitOutSJcollapsed 2000000\n"
   ]
  }
 ],
 "metadata": {
  "kernelspec": {
   "display_name": "Python 3 (ipykernel)",
   "language": "python",
   "name": "python3"
  },
  "language_info": {
   "codemirror_mode": {
    "name": "ipython",
    "version": 3
   },
   "file_extension": ".py",
   "mimetype": "text/x-python",
   "name": "python",
   "nbconvert_exporter": "python",
   "pygments_lexer": "ipython3",
   "version": "3.9.1"
  }
 },
 "nbformat": 4,
 "nbformat_minor": 5
}
