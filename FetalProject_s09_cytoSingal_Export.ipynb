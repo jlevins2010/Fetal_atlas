{
 "cells": [
  {
   "cell_type": "code",
   "execution_count": 1,
   "id": "2491a613",
   "metadata": {
    "execution": {
     "iopub.execute_input": "2024-04-08T17:09:33.903200Z",
     "iopub.status.busy": "2024-04-08T17:09:33.902990Z",
     "iopub.status.idle": "2024-04-08T17:09:38.200374Z",
     "shell.execute_reply": "2024-04-08T17:09:38.199712Z"
    }
   },
   "outputs": [],
   "source": [
    "from anndata import AnnData\n",
    "import scanpy as sc\n",
    "import pandas as pd\n",
    "import anndata as ad\n",
    "\n",
    "import matplotlib.pyplot as plt\n",
    "import seaborn as sns\n",
    "import numpy as np\n",
    "import scipy\n"
   ]
  },
  {
   "cell_type": "markdown",
   "id": "bd507eab",
   "metadata": {},
   "source": [
    "Set parameters"
   ]
  },
  {
   "cell_type": "code",
   "execution_count": 2,
   "id": "dea2eb25",
   "metadata": {
    "execution": {
     "iopub.execute_input": "2024-04-08T17:09:38.204840Z",
     "iopub.status.busy": "2024-04-08T17:09:38.204322Z",
     "iopub.status.idle": "2024-04-08T17:09:38.209918Z",
     "shell.execute_reply": "2024-04-08T17:09:38.209388Z"
    }
   },
   "outputs": [],
   "source": [
    "neighbors = 15\n",
    "\n",
    "colors = {\"DCT\": \"#800515\",\n",
    "               \"Endothelium\": \"#7ae031\",\n",
    "               \"UB_CT\": \"black\",\n",
    "               \"Podocyte\": \"#ad9c00\", \n",
    "               \"Stroma\": \"#794b82\",\n",
    "               \"NPC\": \"#ff8000\", \n",
    "               \"PT\": \"#ff00d4\", \n",
    "               \"Int\": \"#698cff\",\n",
    "               \"Ureth\": \"#d47222\", \n",
    "               \"PEC\": \"#ff0011\", \n",
    "               \"LOH\": \"#235e00\",\n",
    "               \"Immune Cells\": '#757575',\n",
    "         }"
   ]
  },
  {
   "cell_type": "markdown",
   "id": "1cd6aea5",
   "metadata": {},
   "source": [
    "# FK1"
   ]
  },
  {
   "cell_type": "code",
   "execution_count": 3,
   "id": "f02c0b3a",
   "metadata": {
    "execution": {
     "iopub.execute_input": "2024-04-08T17:09:38.213176Z",
     "iopub.status.busy": "2024-04-08T17:09:38.212956Z",
     "iopub.status.idle": "2024-04-08T17:09:56.081781Z",
     "shell.execute_reply": "2024-04-08T17:09:56.080776Z"
    }
   },
   "outputs": [],
   "source": [
    "adata = sc.read_h5ad(\"/home/levinsj/spatial/adata/project_Files/Fetal/model2/fetal_PostSCANVI_imputedExpression.h5ad\")\n",
    "adata = adata[adata.obs[\"tech\"] == \"CosMx\"]\n",
    "adata = adata[adata.obs[\"sample\"] == \"1\"]\n"
   ]
  },
  {
   "cell_type": "code",
   "execution_count": 4,
   "id": "f11bc698",
   "metadata": {
    "execution": {
     "iopub.execute_input": "2024-04-08T17:09:56.086314Z",
     "iopub.status.busy": "2024-04-08T17:09:56.086044Z",
     "iopub.status.idle": "2024-04-08T17:09:56.095540Z",
     "shell.execute_reply": "2024-04-08T17:09:56.094983Z"
    }
   },
   "outputs": [
    {
     "name": "stdout",
     "output_type": "stream",
     "text": [
      "1    178522\n",
      "Name: sample, dtype: int64\n"
     ]
    }
   ],
   "source": [
    "print(adata.obs[\"sample\"].value_counts())"
   ]
  },
  {
   "cell_type": "markdown",
   "id": "29589636",
   "metadata": {},
   "source": [
    "### Need to export the counts as a sparse matrix"
   ]
  },
  {
   "cell_type": "code",
   "execution_count": 5,
   "id": "5acf3ee8",
   "metadata": {
    "execution": {
     "iopub.execute_input": "2024-04-08T17:09:56.098825Z",
     "iopub.status.busy": "2024-04-08T17:09:56.098600Z",
     "iopub.status.idle": "2024-04-08T17:09:56.133602Z",
     "shell.execute_reply": "2024-04-08T17:09:56.133042Z"
    }
   },
   "outputs": [],
   "source": [
    "from scipy import sparse, io"
   ]
  },
  {
   "cell_type": "code",
   "execution_count": 6,
   "id": "efca42d3",
   "metadata": {
    "execution": {
     "iopub.execute_input": "2024-04-08T17:09:56.136923Z",
     "iopub.status.busy": "2024-04-08T17:09:56.136693Z",
     "iopub.status.idle": "2024-04-08T17:34:49.097488Z",
     "shell.execute_reply": "2024-04-08T17:34:49.096330Z"
    }
   },
   "outputs": [],
   "source": [
    "m = adata.layers[\"SCVI_imputed\"]\n",
    "io.mmwrite(\"/home/levinsj/spatial/adata/Export_to_R_files/FK1_imputed.mtx\", m)\n",
    "adata.obs.to_csv('/home/levinsj/spatial/adata/Export_to_R_files/FK1_obs_names.csv', index=True)\n",
    "\n",
    "m = adata.layers[\"counts\"]\n",
    "io.mmwrite(\"/home/levinsj/spatial/adata/Export_to_R_files/FK1_rawCounts.mtx\", m)\n"
   ]
  },
  {
   "cell_type": "code",
   "execution_count": 7,
   "id": "61d384de",
   "metadata": {
    "execution": {
     "iopub.execute_input": "2024-04-08T17:34:49.103487Z",
     "iopub.status.busy": "2024-04-08T17:34:49.103196Z",
     "iopub.status.idle": "2024-04-08T17:34:59.949017Z",
     "shell.execute_reply": "2024-04-08T17:34:59.948386Z"
    }
   },
   "outputs": [
    {
     "name": "stderr",
     "output_type": "stream",
     "text": [
      "/tmp/ipykernel_272065/3651956310.py:3: ImplicitModificationWarning: Trying to modify attribute `.var` of view, initializing view as actual.\n",
      "  adata.var[\"gene_Name\"] = adata.var.index\n"
     ]
    },
    {
     "name": "stdout",
     "output_type": "stream",
     "text": [
      "False    23486\n",
      "True       999\n",
      "Name: CosMx, dtype: int64\n"
     ]
    }
   ],
   "source": [
    "probeNames = pd.read_csv('/home/levinsj/spatial/adata/probeNames.csv')\n",
    "\n",
    "adata.var[\"gene_Name\"] = adata.var.index\n",
    "adata.var[\"CosMx\"] = adata.var[\"gene_Name\"].isin(probeNames[\"x\"].tolist())\n",
    "print(adata.var.CosMx.value_counts())"
   ]
  },
  {
   "cell_type": "code",
   "execution_count": 8,
   "id": "047b3433",
   "metadata": {
    "execution": {
     "iopub.execute_input": "2024-04-08T17:34:59.952622Z",
     "iopub.status.busy": "2024-04-08T17:34:59.952381Z",
     "iopub.status.idle": "2024-04-08T17:34:59.988099Z",
     "shell.execute_reply": "2024-04-08T17:34:59.987547Z"
    }
   },
   "outputs": [],
   "source": [
    "adata.var.to_csv('/home/levinsj/spatial/adata/Export_to_R_files/FK1_var_names.csv', index=True)\n"
   ]
  },
  {
   "cell_type": "markdown",
   "id": "d219b450",
   "metadata": {},
   "source": [
    "# HK3524"
   ]
  },
  {
   "cell_type": "code",
   "execution_count": 9,
   "id": "0a8284a9",
   "metadata": {
    "execution": {
     "iopub.execute_input": "2024-04-08T17:34:59.991571Z",
     "iopub.status.busy": "2024-04-08T17:34:59.991334Z",
     "iopub.status.idle": "2024-04-08T17:35:18.662268Z",
     "shell.execute_reply": "2024-04-08T17:35:18.661594Z"
    }
   },
   "outputs": [],
   "source": [
    "adata = sc.read_h5ad(\"/home/levinsj/spatial/adata/project_Files/Fetal/model2/fetal_PostSCANVI_imputedExpression.h5ad\")\n",
    "adata = adata[adata.obs[\"tech\"] == \"CosMx\"]\n",
    "adata = adata[adata.obs[\"sample\"] == \"0\"]"
   ]
  },
  {
   "cell_type": "code",
   "execution_count": 10,
   "id": "8a6a0bbe",
   "metadata": {
    "execution": {
     "iopub.execute_input": "2024-04-08T17:35:18.666333Z",
     "iopub.status.busy": "2024-04-08T17:35:18.666075Z",
     "iopub.status.idle": "2024-04-08T17:35:18.673338Z",
     "shell.execute_reply": "2024-04-08T17:35:18.672792Z"
    }
   },
   "outputs": [
    {
     "name": "stdout",
     "output_type": "stream",
     "text": [
      "0    96832\n",
      "Name: sample, dtype: int64\n"
     ]
    }
   ],
   "source": [
    "print(adata.obs[\"sample\"].value_counts())"
   ]
  },
  {
   "cell_type": "code",
   "execution_count": 11,
   "id": "20f83c32",
   "metadata": {
    "execution": {
     "iopub.execute_input": "2024-04-08T17:35:18.676580Z",
     "iopub.status.busy": "2024-04-08T17:35:18.676352Z",
     "iopub.status.idle": "2024-04-08T17:48:01.578506Z",
     "shell.execute_reply": "2024-04-08T17:48:01.577331Z"
    }
   },
   "outputs": [],
   "source": [
    "m = adata.layers[\"SCVI_imputed\"]\n",
    "io.mmwrite(\"/home/levinsj/spatial/adata/Export_to_R_files/HK3524_imputed.mtx\", m)\n",
    "adata.obs.to_csv('/home/levinsj/spatial/adata/Export_to_R_files/HK3524_obs_names.csv', index=True)\n",
    "\n",
    "m = adata.layers[\"counts\"]\n",
    "io.mmwrite(\"/home/levinsj/spatial/adata/Export_to_R_files/HK3524_rawCounts.mtx\", m)\n"
   ]
  },
  {
   "cell_type": "code",
   "execution_count": 12,
   "id": "ede3a79b",
   "metadata": {
    "execution": {
     "iopub.execute_input": "2024-04-08T17:48:01.583133Z",
     "iopub.status.busy": "2024-04-08T17:48:01.582850Z",
     "iopub.status.idle": "2024-04-08T17:48:07.176827Z",
     "shell.execute_reply": "2024-04-08T17:48:07.176180Z"
    }
   },
   "outputs": [
    {
     "name": "stderr",
     "output_type": "stream",
     "text": [
      "/tmp/ipykernel_272065/3651956310.py:3: ImplicitModificationWarning: Trying to modify attribute `.var` of view, initializing view as actual.\n",
      "  adata.var[\"gene_Name\"] = adata.var.index\n"
     ]
    },
    {
     "name": "stdout",
     "output_type": "stream",
     "text": [
      "False    23486\n",
      "True       999\n",
      "Name: CosMx, dtype: int64\n"
     ]
    }
   ],
   "source": [
    "probeNames = pd.read_csv('/home/levinsj/spatial/adata/probeNames.csv')\n",
    "\n",
    "adata.var[\"gene_Name\"] = adata.var.index\n",
    "adata.var[\"CosMx\"] = adata.var[\"gene_Name\"].isin(probeNames[\"x\"].tolist())\n",
    "print(adata.var.CosMx.value_counts())"
   ]
  },
  {
   "cell_type": "code",
   "execution_count": 13,
   "id": "2b4ae820",
   "metadata": {
    "execution": {
     "iopub.execute_input": "2024-04-08T17:48:07.180268Z",
     "iopub.status.busy": "2024-04-08T17:48:07.180031Z",
     "iopub.status.idle": "2024-04-08T17:48:07.208100Z",
     "shell.execute_reply": "2024-04-08T17:48:07.207554Z"
    }
   },
   "outputs": [],
   "source": [
    "adata.var.to_csv('/home/levinsj/spatial/adata/Export_to_R_files/HK3524_var_names.csv', index=True)\n"
   ]
  },
  {
   "cell_type": "markdown",
   "id": "1acfb1cf",
   "metadata": {},
   "source": [
    "# FK4"
   ]
  },
  {
   "cell_type": "code",
   "execution_count": 14,
   "id": "f388dfac",
   "metadata": {
    "execution": {
     "iopub.execute_input": "2024-04-08T17:48:07.211549Z",
     "iopub.status.busy": "2024-04-08T17:48:07.211317Z",
     "iopub.status.idle": "2024-04-08T17:48:26.272725Z",
     "shell.execute_reply": "2024-04-08T17:48:26.272051Z"
    }
   },
   "outputs": [],
   "source": [
    "adata = sc.read_h5ad(\"/home/levinsj/spatial/adata/project_Files/Fetal/model2/fetal_PostSCANVI_imputedExpression.h5ad\")\n",
    "adata = adata[adata.obs[\"tech\"] == \"CosMx\"]\n",
    "adata = adata[adata.obs[\"sample\"] == \"2\"]"
   ]
  },
  {
   "cell_type": "code",
   "execution_count": 15,
   "id": "7d8900e9",
   "metadata": {
    "execution": {
     "iopub.execute_input": "2024-04-08T17:48:26.276769Z",
     "iopub.status.busy": "2024-04-08T17:48:26.276512Z",
     "iopub.status.idle": "2024-04-08T17:48:26.283765Z",
     "shell.execute_reply": "2024-04-08T17:48:26.283210Z"
    }
   },
   "outputs": [
    {
     "name": "stdout",
     "output_type": "stream",
     "text": [
      "2    102605\n",
      "Name: sample, dtype: int64\n"
     ]
    }
   ],
   "source": [
    "print(adata.obs[\"sample\"].value_counts())"
   ]
  },
  {
   "cell_type": "code",
   "execution_count": 16,
   "id": "05e2665b",
   "metadata": {
    "execution": {
     "iopub.execute_input": "2024-04-08T17:48:26.286980Z",
     "iopub.status.busy": "2024-04-08T17:48:26.286760Z",
     "iopub.status.idle": "2024-04-08T18:02:29.120016Z",
     "shell.execute_reply": "2024-04-08T18:02:29.118849Z"
    }
   },
   "outputs": [],
   "source": [
    "m = adata.layers[\"SCVI_imputed\"]\n",
    "io.mmwrite(\"/home/levinsj/spatial/adata/Export_to_R_files/FK4_imputed.mtx\", m)\n",
    "adata.obs.to_csv('/home/levinsj/spatial/adata/Export_to_R_files/FK4_obs_names.csv', index=True)\n",
    "\n",
    "m = adata.layers[\"counts\"]\n",
    "io.mmwrite(\"/home/levinsj/spatial/adata/Export_to_R_files/FK4_rawCounts.mtx\", m)\n"
   ]
  },
  {
   "cell_type": "code",
   "execution_count": 17,
   "id": "791f1744",
   "metadata": {
    "execution": {
     "iopub.execute_input": "2024-04-08T18:02:29.124571Z",
     "iopub.status.busy": "2024-04-08T18:02:29.124291Z",
     "iopub.status.idle": "2024-04-08T18:02:35.211149Z",
     "shell.execute_reply": "2024-04-08T18:02:35.210514Z"
    }
   },
   "outputs": [
    {
     "name": "stderr",
     "output_type": "stream",
     "text": [
      "/tmp/ipykernel_272065/3651956310.py:3: ImplicitModificationWarning: Trying to modify attribute `.var` of view, initializing view as actual.\n",
      "  adata.var[\"gene_Name\"] = adata.var.index\n"
     ]
    },
    {
     "name": "stdout",
     "output_type": "stream",
     "text": [
      "False    23486\n",
      "True       999\n",
      "Name: CosMx, dtype: int64\n"
     ]
    }
   ],
   "source": [
    "probeNames = pd.read_csv('/home/levinsj/spatial/adata/probeNames.csv')\n",
    "\n",
    "adata.var[\"gene_Name\"] = adata.var.index\n",
    "adata.var[\"CosMx\"] = adata.var[\"gene_Name\"].isin(probeNames[\"x\"].tolist())\n",
    "print(adata.var.CosMx.value_counts())"
   ]
  },
  {
   "cell_type": "code",
   "execution_count": 18,
   "id": "4d6c4081",
   "metadata": {
    "execution": {
     "iopub.execute_input": "2024-04-08T18:02:35.214618Z",
     "iopub.status.busy": "2024-04-08T18:02:35.214377Z",
     "iopub.status.idle": "2024-04-08T18:02:35.242418Z",
     "shell.execute_reply": "2024-04-08T18:02:35.241859Z"
    }
   },
   "outputs": [],
   "source": [
    "adata.var.to_csv('/home/levinsj/spatial/adata/Export_to_R_files/FK4_var_names.csv', index=True)\n"
   ]
  }
 ],
 "metadata": {
  "kernelspec": {
   "display_name": "Python 3 (ipykernel)",
   "language": "python",
   "name": "python3"
  },
  "language_info": {
   "codemirror_mode": {
    "name": "ipython",
    "version": 3
   },
   "file_extension": ".py",
   "mimetype": "text/x-python",
   "name": "python",
   "nbconvert_exporter": "python",
   "pygments_lexer": "ipython3",
   "version": "3.8.10"
  },
  "widgets": {
   "application/vnd.jupyter.widget-state+json": {
    "state": {
     "0e4b7b9cb5f546bd88984eb9ea404fa2": {
      "model_module": "@jupyter-widgets/base",
      "model_module_version": "2.0.0",
      "model_name": "LayoutModel",
      "state": {
       "_model_module": "@jupyter-widgets/base",
       "_model_module_version": "2.0.0",
       "_model_name": "LayoutModel",
       "_view_count": null,
       "_view_module": "@jupyter-widgets/base",
       "_view_module_version": "2.0.0",
       "_view_name": "LayoutView",
       "align_content": null,
       "align_items": null,
       "align_self": null,
       "border_bottom": null,
       "border_left": null,
       "border_right": null,
       "border_top": null,
       "bottom": null,
       "display": null,
       "flex": null,
       "flex_flow": null,
       "grid_area": null,
       "grid_auto_columns": null,
       "grid_auto_flow": null,
       "grid_auto_rows": null,
       "grid_column": null,
       "grid_gap": null,
       "grid_row": null,
       "grid_template_areas": null,
       "grid_template_columns": null,
       "grid_template_rows": null,
       "height": null,
       "justify_content": null,
       "justify_items": null,
       "left": null,
       "margin": null,
       "max_height": null,
       "max_width": null,
       "min_height": null,
       "min_width": null,
       "object_fit": null,
       "object_position": null,
       "order": null,
       "overflow": null,
       "padding": null,
       "right": null,
       "top": null,
       "visibility": null,
       "width": null
      }
     },
     "10d1f74f26814c6ca9158faa0157fa5f": {
      "model_module": "@jupyter-widgets/controls",
      "model_module_version": "2.0.0",
      "model_name": "HBoxModel",
      "state": {
       "_dom_classes": [],
       "_model_module": "@jupyter-widgets/controls",
       "_model_module_version": "2.0.0",
       "_model_name": "HBoxModel",
       "_view_count": null,
       "_view_module": "@jupyter-widgets/controls",
       "_view_module_version": "2.0.0",
       "_view_name": "HBoxView",
       "box_style": "",
       "children": [
        "IPY_MODEL_69393788e428475fba9f50db62c5b5c7",
        "IPY_MODEL_af7fe8cb05044a46beb24cabd3123bcd",
        "IPY_MODEL_28a4508db7a24311ba5214586d702a77"
       ],
       "layout": "IPY_MODEL_8714d4a558604824987d97a4d4310a86",
       "tabbable": null,
       "tooltip": null
      }
     },
     "1acf7af16d0042fd88b9ce7806490a12": {
      "model_module": "@jupyter-widgets/base",
      "model_module_version": "2.0.0",
      "model_name": "LayoutModel",
      "state": {
       "_model_module": "@jupyter-widgets/base",
       "_model_module_version": "2.0.0",
       "_model_name": "LayoutModel",
       "_view_count": null,
       "_view_module": "@jupyter-widgets/base",
       "_view_module_version": "2.0.0",
       "_view_name": "LayoutView",
       "align_content": null,
       "align_items": null,
       "align_self": null,
       "border_bottom": null,
       "border_left": null,
       "border_right": null,
       "border_top": null,
       "bottom": null,
       "display": null,
       "flex": null,
       "flex_flow": null,
       "grid_area": null,
       "grid_auto_columns": null,
       "grid_auto_flow": null,
       "grid_auto_rows": null,
       "grid_column": null,
       "grid_gap": null,
       "grid_row": null,
       "grid_template_areas": null,
       "grid_template_columns": null,
       "grid_template_rows": null,
       "height": null,
       "justify_content": null,
       "justify_items": null,
       "left": null,
       "margin": null,
       "max_height": null,
       "max_width": null,
       "min_height": null,
       "min_width": null,
       "object_fit": null,
       "object_position": null,
       "order": null,
       "overflow": null,
       "padding": null,
       "right": null,
       "top": null,
       "visibility": null,
       "width": null
      }
     },
     "24916c76f44648f199acf6679fcafb59": {
      "model_module": "@jupyter-widgets/controls",
      "model_module_version": "2.0.0",
      "model_name": "ProgressStyleModel",
      "state": {
       "_model_module": "@jupyter-widgets/controls",
       "_model_module_version": "2.0.0",
       "_model_name": "ProgressStyleModel",
       "_view_count": null,
       "_view_module": "@jupyter-widgets/base",
       "_view_module_version": "2.0.0",
       "_view_name": "StyleView",
       "bar_color": null,
       "description_width": ""
      }
     },
     "2833e073718d48edb600ec663025a3a0": {
      "model_module": "@jupyter-widgets/controls",
      "model_module_version": "2.0.0",
      "model_name": "HTMLModel",
      "state": {
       "_dom_classes": [],
       "_model_module": "@jupyter-widgets/controls",
       "_model_module_version": "2.0.0",
       "_model_name": "HTMLModel",
       "_view_count": null,
       "_view_module": "@jupyter-widgets/controls",
       "_view_module_version": "2.0.0",
       "_view_name": "HTMLView",
       "description": "",
       "description_allow_html": false,
       "layout": "IPY_MODEL_5789fbe879ee4791987d48e05c46668f",
       "placeholder": "​",
       "style": "IPY_MODEL_d46c941c19644d82a17b9b991b81e34c",
       "tabbable": null,
       "tooltip": null,
       "value": " 1000/1000 [00:07&lt;00:00, 135.83/s]"
      }
     },
     "28a4508db7a24311ba5214586d702a77": {
      "model_module": "@jupyter-widgets/controls",
      "model_module_version": "2.0.0",
      "model_name": "HTMLModel",
      "state": {
       "_dom_classes": [],
       "_model_module": "@jupyter-widgets/controls",
       "_model_module_version": "2.0.0",
       "_model_name": "HTMLModel",
       "_view_count": null,
       "_view_module": "@jupyter-widgets/controls",
       "_view_module_version": "2.0.0",
       "_view_name": "HTMLView",
       "description": "",
       "description_allow_html": false,
       "layout": "IPY_MODEL_ab13189a5b3f41fe851b85e47873961b",
       "placeholder": "​",
       "style": "IPY_MODEL_e7bf30781b7f46d9b62918e5c0c06462",
       "tabbable": null,
       "tooltip": null,
       "value": " 1000/1000 [00:06&lt;00:00, 149.80/s]"
      }
     },
     "2ce1b7ebc4f94fe38d3fdb19a9ec80fc": {
      "model_module": "@jupyter-widgets/controls",
      "model_module_version": "2.0.0",
      "model_name": "HTMLStyleModel",
      "state": {
       "_model_module": "@jupyter-widgets/controls",
       "_model_module_version": "2.0.0",
       "_model_name": "HTMLStyleModel",
       "_view_count": null,
       "_view_module": "@jupyter-widgets/base",
       "_view_module_version": "2.0.0",
       "_view_name": "StyleView",
       "background": null,
       "description_width": "",
       "font_size": null,
       "text_color": null
      }
     },
     "3fba10d44f714d86841bad4a43b15bfa": {
      "model_module": "@jupyter-widgets/base",
      "model_module_version": "2.0.0",
      "model_name": "LayoutModel",
      "state": {
       "_model_module": "@jupyter-widgets/base",
       "_model_module_version": "2.0.0",
       "_model_name": "LayoutModel",
       "_view_count": null,
       "_view_module": "@jupyter-widgets/base",
       "_view_module_version": "2.0.0",
       "_view_name": "LayoutView",
       "align_content": null,
       "align_items": null,
       "align_self": null,
       "border_bottom": null,
       "border_left": null,
       "border_right": null,
       "border_top": null,
       "bottom": null,
       "display": null,
       "flex": null,
       "flex_flow": null,
       "grid_area": null,
       "grid_auto_columns": null,
       "grid_auto_flow": null,
       "grid_auto_rows": null,
       "grid_column": null,
       "grid_gap": null,
       "grid_row": null,
       "grid_template_areas": null,
       "grid_template_columns": null,
       "grid_template_rows": null,
       "height": null,
       "justify_content": null,
       "justify_items": null,
       "left": null,
       "margin": null,
       "max_height": null,
       "max_width": null,
       "min_height": null,
       "min_width": null,
       "object_fit": null,
       "object_position": null,
       "order": null,
       "overflow": null,
       "padding": null,
       "right": null,
       "top": null,
       "visibility": null,
       "width": null
      }
     },
     "424ad4fc5c6c4a19ae2452d589809f6b": {
      "model_module": "@jupyter-widgets/controls",
      "model_module_version": "2.0.0",
      "model_name": "ProgressStyleModel",
      "state": {
       "_model_module": "@jupyter-widgets/controls",
       "_model_module_version": "2.0.0",
       "_model_name": "ProgressStyleModel",
       "_view_count": null,
       "_view_module": "@jupyter-widgets/base",
       "_view_module_version": "2.0.0",
       "_view_name": "StyleView",
       "bar_color": null,
       "description_width": ""
      }
     },
     "426ced02190848768bfdc562918864d1": {
      "model_module": "@jupyter-widgets/controls",
      "model_module_version": "2.0.0",
      "model_name": "ProgressStyleModel",
      "state": {
       "_model_module": "@jupyter-widgets/controls",
       "_model_module_version": "2.0.0",
       "_model_name": "ProgressStyleModel",
       "_view_count": null,
       "_view_module": "@jupyter-widgets/base",
       "_view_module_version": "2.0.0",
       "_view_name": "StyleView",
       "bar_color": null,
       "description_width": ""
      }
     },
     "47b6b75d11c64e958647f7c30fb3c748": {
      "model_module": "@jupyter-widgets/controls",
      "model_module_version": "2.0.0",
      "model_name": "HBoxModel",
      "state": {
       "_dom_classes": [],
       "_model_module": "@jupyter-widgets/controls",
       "_model_module_version": "2.0.0",
       "_model_name": "HBoxModel",
       "_view_count": null,
       "_view_module": "@jupyter-widgets/controls",
       "_view_module_version": "2.0.0",
       "_view_name": "HBoxView",
       "box_style": "",
       "children": [
        "IPY_MODEL_f399817efcb84c0bba4e45d646b2f196",
        "IPY_MODEL_b8b9123138bb4ab889160b82df45a114",
        "IPY_MODEL_2833e073718d48edb600ec663025a3a0"
       ],
       "layout": "IPY_MODEL_526435eb472b46fdb3f50babd45bb73f",
       "tabbable": null,
       "tooltip": null
      }
     },
     "4ad426cf765047fa9d9b9f4e2f9042e4": {
      "model_module": "@jupyter-widgets/controls",
      "model_module_version": "2.0.0",
      "model_name": "FloatProgressModel",
      "state": {
       "_dom_classes": [],
       "_model_module": "@jupyter-widgets/controls",
       "_model_module_version": "2.0.0",
       "_model_name": "FloatProgressModel",
       "_view_count": null,
       "_view_module": "@jupyter-widgets/controls",
       "_view_module_version": "2.0.0",
       "_view_name": "ProgressView",
       "bar_style": "success",
       "description": "",
       "description_allow_html": false,
       "layout": "IPY_MODEL_9e74a2f321434b0197453164d0b77c73",
       "max": 1000,
       "min": 0,
       "orientation": "horizontal",
       "style": "IPY_MODEL_24916c76f44648f199acf6679fcafb59",
       "tabbable": null,
       "tooltip": null,
       "value": 1000
      }
     },
     "526435eb472b46fdb3f50babd45bb73f": {
      "model_module": "@jupyter-widgets/base",
      "model_module_version": "2.0.0",
      "model_name": "LayoutModel",
      "state": {
       "_model_module": "@jupyter-widgets/base",
       "_model_module_version": "2.0.0",
       "_model_name": "LayoutModel",
       "_view_count": null,
       "_view_module": "@jupyter-widgets/base",
       "_view_module_version": "2.0.0",
       "_view_name": "LayoutView",
       "align_content": null,
       "align_items": null,
       "align_self": null,
       "border_bottom": null,
       "border_left": null,
       "border_right": null,
       "border_top": null,
       "bottom": null,
       "display": null,
       "flex": null,
       "flex_flow": null,
       "grid_area": null,
       "grid_auto_columns": null,
       "grid_auto_flow": null,
       "grid_auto_rows": null,
       "grid_column": null,
       "grid_gap": null,
       "grid_row": null,
       "grid_template_areas": null,
       "grid_template_columns": null,
       "grid_template_rows": null,
       "height": null,
       "justify_content": null,
       "justify_items": null,
       "left": null,
       "margin": null,
       "max_height": null,
       "max_width": null,
       "min_height": null,
       "min_width": null,
       "object_fit": null,
       "object_position": null,
       "order": null,
       "overflow": null,
       "padding": null,
       "right": null,
       "top": null,
       "visibility": null,
       "width": null
      }
     },
     "5789fbe879ee4791987d48e05c46668f": {
      "model_module": "@jupyter-widgets/base",
      "model_module_version": "2.0.0",
      "model_name": "LayoutModel",
      "state": {
       "_model_module": "@jupyter-widgets/base",
       "_model_module_version": "2.0.0",
       "_model_name": "LayoutModel",
       "_view_count": null,
       "_view_module": "@jupyter-widgets/base",
       "_view_module_version": "2.0.0",
       "_view_name": "LayoutView",
       "align_content": null,
       "align_items": null,
       "align_self": null,
       "border_bottom": null,
       "border_left": null,
       "border_right": null,
       "border_top": null,
       "bottom": null,
       "display": null,
       "flex": null,
       "flex_flow": null,
       "grid_area": null,
       "grid_auto_columns": null,
       "grid_auto_flow": null,
       "grid_auto_rows": null,
       "grid_column": null,
       "grid_gap": null,
       "grid_row": null,
       "grid_template_areas": null,
       "grid_template_columns": null,
       "grid_template_rows": null,
       "height": null,
       "justify_content": null,
       "justify_items": null,
       "left": null,
       "margin": null,
       "max_height": null,
       "max_width": null,
       "min_height": null,
       "min_width": null,
       "object_fit": null,
       "object_position": null,
       "order": null,
       "overflow": null,
       "padding": null,
       "right": null,
       "top": null,
       "visibility": null,
       "width": null
      }
     },
     "6419c6d35b1b4eac910a2a9b49429bf6": {
      "model_module": "@jupyter-widgets/controls",
      "model_module_version": "2.0.0",
      "model_name": "HTMLStyleModel",
      "state": {
       "_model_module": "@jupyter-widgets/controls",
       "_model_module_version": "2.0.0",
       "_model_name": "HTMLStyleModel",
       "_view_count": null,
       "_view_module": "@jupyter-widgets/base",
       "_view_module_version": "2.0.0",
       "_view_name": "StyleView",
       "background": null,
       "description_width": "",
       "font_size": null,
       "text_color": null
      }
     },
     "69393788e428475fba9f50db62c5b5c7": {
      "model_module": "@jupyter-widgets/controls",
      "model_module_version": "2.0.0",
      "model_name": "HTMLModel",
      "state": {
       "_dom_classes": [],
       "_model_module": "@jupyter-widgets/controls",
       "_model_module_version": "2.0.0",
       "_model_name": "HTMLModel",
       "_view_count": null,
       "_view_module": "@jupyter-widgets/controls",
       "_view_module_version": "2.0.0",
       "_view_name": "HTMLView",
       "description": "",
       "description_allow_html": false,
       "layout": "IPY_MODEL_3fba10d44f714d86841bad4a43b15bfa",
       "placeholder": "​",
       "style": "IPY_MODEL_cdfbf04939ad4f8095be0d728afe5656",
       "tabbable": null,
       "tooltip": null,
       "value": "100%"
      }
     },
     "785fca011c354851a8bcb4e8785f25c2": {
      "model_module": "@jupyter-widgets/base",
      "model_module_version": "2.0.0",
      "model_name": "LayoutModel",
      "state": {
       "_model_module": "@jupyter-widgets/base",
       "_model_module_version": "2.0.0",
       "_model_name": "LayoutModel",
       "_view_count": null,
       "_view_module": "@jupyter-widgets/base",
       "_view_module_version": "2.0.0",
       "_view_name": "LayoutView",
       "align_content": null,
       "align_items": null,
       "align_self": null,
       "border_bottom": null,
       "border_left": null,
       "border_right": null,
       "border_top": null,
       "bottom": null,
       "display": null,
       "flex": null,
       "flex_flow": null,
       "grid_area": null,
       "grid_auto_columns": null,
       "grid_auto_flow": null,
       "grid_auto_rows": null,
       "grid_column": null,
       "grid_gap": null,
       "grid_row": null,
       "grid_template_areas": null,
       "grid_template_columns": null,
       "grid_template_rows": null,
       "height": null,
       "justify_content": null,
       "justify_items": null,
       "left": null,
       "margin": null,
       "max_height": null,
       "max_width": null,
       "min_height": null,
       "min_width": null,
       "object_fit": null,
       "object_position": null,
       "order": null,
       "overflow": null,
       "padding": null,
       "right": null,
       "top": null,
       "visibility": null,
       "width": null
      }
     },
     "8714d4a558604824987d97a4d4310a86": {
      "model_module": "@jupyter-widgets/base",
      "model_module_version": "2.0.0",
      "model_name": "LayoutModel",
      "state": {
       "_model_module": "@jupyter-widgets/base",
       "_model_module_version": "2.0.0",
       "_model_name": "LayoutModel",
       "_view_count": null,
       "_view_module": "@jupyter-widgets/base",
       "_view_module_version": "2.0.0",
       "_view_name": "LayoutView",
       "align_content": null,
       "align_items": null,
       "align_self": null,
       "border_bottom": null,
       "border_left": null,
       "border_right": null,
       "border_top": null,
       "bottom": null,
       "display": null,
       "flex": null,
       "flex_flow": null,
       "grid_area": null,
       "grid_auto_columns": null,
       "grid_auto_flow": null,
       "grid_auto_rows": null,
       "grid_column": null,
       "grid_gap": null,
       "grid_row": null,
       "grid_template_areas": null,
       "grid_template_columns": null,
       "grid_template_rows": null,
       "height": null,
       "justify_content": null,
       "justify_items": null,
       "left": null,
       "margin": null,
       "max_height": null,
       "max_width": null,
       "min_height": null,
       "min_width": null,
       "object_fit": null,
       "object_position": null,
       "order": null,
       "overflow": null,
       "padding": null,
       "right": null,
       "top": null,
       "visibility": null,
       "width": null
      }
     },
     "8982192286b544b6929098d49052dddf": {
      "model_module": "@jupyter-widgets/controls",
      "model_module_version": "2.0.0",
      "model_name": "HTMLModel",
      "state": {
       "_dom_classes": [],
       "_model_module": "@jupyter-widgets/controls",
       "_model_module_version": "2.0.0",
       "_model_name": "HTMLModel",
       "_view_count": null,
       "_view_module": "@jupyter-widgets/controls",
       "_view_module_version": "2.0.0",
       "_view_name": "HTMLView",
       "description": "",
       "description_allow_html": false,
       "layout": "IPY_MODEL_f95c8a6de5d7477abbbc37bfc4a344aa",
       "placeholder": "​",
       "style": "IPY_MODEL_e94f00e661ad453081e469baf6b567fd",
       "tabbable": null,
       "tooltip": null,
       "value": " 1000/1000 [00:13&lt;00:00, 75.92/s]"
      }
     },
     "95e714a55aa44e2f98d51e7a1273dc61": {
      "model_module": "@jupyter-widgets/controls",
      "model_module_version": "2.0.0",
      "model_name": "HBoxModel",
      "state": {
       "_dom_classes": [],
       "_model_module": "@jupyter-widgets/controls",
       "_model_module_version": "2.0.0",
       "_model_name": "HBoxModel",
       "_view_count": null,
       "_view_module": "@jupyter-widgets/controls",
       "_view_module_version": "2.0.0",
       "_view_name": "HBoxView",
       "box_style": "",
       "children": [
        "IPY_MODEL_f9e7206f4b5c419a8a1b21cc44a1b498",
        "IPY_MODEL_4ad426cf765047fa9d9b9f4e2f9042e4",
        "IPY_MODEL_8982192286b544b6929098d49052dddf"
       ],
       "layout": "IPY_MODEL_0e4b7b9cb5f546bd88984eb9ea404fa2",
       "tabbable": null,
       "tooltip": null
      }
     },
     "9e74a2f321434b0197453164d0b77c73": {
      "model_module": "@jupyter-widgets/base",
      "model_module_version": "2.0.0",
      "model_name": "LayoutModel",
      "state": {
       "_model_module": "@jupyter-widgets/base",
       "_model_module_version": "2.0.0",
       "_model_name": "LayoutModel",
       "_view_count": null,
       "_view_module": "@jupyter-widgets/base",
       "_view_module_version": "2.0.0",
       "_view_name": "LayoutView",
       "align_content": null,
       "align_items": null,
       "align_self": null,
       "border_bottom": null,
       "border_left": null,
       "border_right": null,
       "border_top": null,
       "bottom": null,
       "display": null,
       "flex": null,
       "flex_flow": null,
       "grid_area": null,
       "grid_auto_columns": null,
       "grid_auto_flow": null,
       "grid_auto_rows": null,
       "grid_column": null,
       "grid_gap": null,
       "grid_row": null,
       "grid_template_areas": null,
       "grid_template_columns": null,
       "grid_template_rows": null,
       "height": null,
       "justify_content": null,
       "justify_items": null,
       "left": null,
       "margin": null,
       "max_height": null,
       "max_width": null,
       "min_height": null,
       "min_width": null,
       "object_fit": null,
       "object_position": null,
       "order": null,
       "overflow": null,
       "padding": null,
       "right": null,
       "top": null,
       "visibility": null,
       "width": null
      }
     },
     "ab13189a5b3f41fe851b85e47873961b": {
      "model_module": "@jupyter-widgets/base",
      "model_module_version": "2.0.0",
      "model_name": "LayoutModel",
      "state": {
       "_model_module": "@jupyter-widgets/base",
       "_model_module_version": "2.0.0",
       "_model_name": "LayoutModel",
       "_view_count": null,
       "_view_module": "@jupyter-widgets/base",
       "_view_module_version": "2.0.0",
       "_view_name": "LayoutView",
       "align_content": null,
       "align_items": null,
       "align_self": null,
       "border_bottom": null,
       "border_left": null,
       "border_right": null,
       "border_top": null,
       "bottom": null,
       "display": null,
       "flex": null,
       "flex_flow": null,
       "grid_area": null,
       "grid_auto_columns": null,
       "grid_auto_flow": null,
       "grid_auto_rows": null,
       "grid_column": null,
       "grid_gap": null,
       "grid_row": null,
       "grid_template_areas": null,
       "grid_template_columns": null,
       "grid_template_rows": null,
       "height": null,
       "justify_content": null,
       "justify_items": null,
       "left": null,
       "margin": null,
       "max_height": null,
       "max_width": null,
       "min_height": null,
       "min_width": null,
       "object_fit": null,
       "object_position": null,
       "order": null,
       "overflow": null,
       "padding": null,
       "right": null,
       "top": null,
       "visibility": null,
       "width": null
      }
     },
     "af7fe8cb05044a46beb24cabd3123bcd": {
      "model_module": "@jupyter-widgets/controls",
      "model_module_version": "2.0.0",
      "model_name": "FloatProgressModel",
      "state": {
       "_dom_classes": [],
       "_model_module": "@jupyter-widgets/controls",
       "_model_module_version": "2.0.0",
       "_model_name": "FloatProgressModel",
       "_view_count": null,
       "_view_module": "@jupyter-widgets/controls",
       "_view_module_version": "2.0.0",
       "_view_name": "ProgressView",
       "bar_style": "success",
       "description": "",
       "description_allow_html": false,
       "layout": "IPY_MODEL_1acf7af16d0042fd88b9ce7806490a12",
       "max": 1000,
       "min": 0,
       "orientation": "horizontal",
       "style": "IPY_MODEL_424ad4fc5c6c4a19ae2452d589809f6b",
       "tabbable": null,
       "tooltip": null,
       "value": 1000
      }
     },
     "b8b9123138bb4ab889160b82df45a114": {
      "model_module": "@jupyter-widgets/controls",
      "model_module_version": "2.0.0",
      "model_name": "FloatProgressModel",
      "state": {
       "_dom_classes": [],
       "_model_module": "@jupyter-widgets/controls",
       "_model_module_version": "2.0.0",
       "_model_name": "FloatProgressModel",
       "_view_count": null,
       "_view_module": "@jupyter-widgets/controls",
       "_view_module_version": "2.0.0",
       "_view_name": "ProgressView",
       "bar_style": "success",
       "description": "",
       "description_allow_html": false,
       "layout": "IPY_MODEL_785fca011c354851a8bcb4e8785f25c2",
       "max": 1000,
       "min": 0,
       "orientation": "horizontal",
       "style": "IPY_MODEL_426ced02190848768bfdc562918864d1",
       "tabbable": null,
       "tooltip": null,
       "value": 1000
      }
     },
     "c745772078e840308dcaaba3299886da": {
      "model_module": "@jupyter-widgets/base",
      "model_module_version": "2.0.0",
      "model_name": "LayoutModel",
      "state": {
       "_model_module": "@jupyter-widgets/base",
       "_model_module_version": "2.0.0",
       "_model_name": "LayoutModel",
       "_view_count": null,
       "_view_module": "@jupyter-widgets/base",
       "_view_module_version": "2.0.0",
       "_view_name": "LayoutView",
       "align_content": null,
       "align_items": null,
       "align_self": null,
       "border_bottom": null,
       "border_left": null,
       "border_right": null,
       "border_top": null,
       "bottom": null,
       "display": null,
       "flex": null,
       "flex_flow": null,
       "grid_area": null,
       "grid_auto_columns": null,
       "grid_auto_flow": null,
       "grid_auto_rows": null,
       "grid_column": null,
       "grid_gap": null,
       "grid_row": null,
       "grid_template_areas": null,
       "grid_template_columns": null,
       "grid_template_rows": null,
       "height": null,
       "justify_content": null,
       "justify_items": null,
       "left": null,
       "margin": null,
       "max_height": null,
       "max_width": null,
       "min_height": null,
       "min_width": null,
       "object_fit": null,
       "object_position": null,
       "order": null,
       "overflow": null,
       "padding": null,
       "right": null,
       "top": null,
       "visibility": null,
       "width": null
      }
     },
     "cdfbf04939ad4f8095be0d728afe5656": {
      "model_module": "@jupyter-widgets/controls",
      "model_module_version": "2.0.0",
      "model_name": "HTMLStyleModel",
      "state": {
       "_model_module": "@jupyter-widgets/controls",
       "_model_module_version": "2.0.0",
       "_model_name": "HTMLStyleModel",
       "_view_count": null,
       "_view_module": "@jupyter-widgets/base",
       "_view_module_version": "2.0.0",
       "_view_name": "StyleView",
       "background": null,
       "description_width": "",
       "font_size": null,
       "text_color": null
      }
     },
     "d46c941c19644d82a17b9b991b81e34c": {
      "model_module": "@jupyter-widgets/controls",
      "model_module_version": "2.0.0",
      "model_name": "HTMLStyleModel",
      "state": {
       "_model_module": "@jupyter-widgets/controls",
       "_model_module_version": "2.0.0",
       "_model_name": "HTMLStyleModel",
       "_view_count": null,
       "_view_module": "@jupyter-widgets/base",
       "_view_module_version": "2.0.0",
       "_view_name": "StyleView",
       "background": null,
       "description_width": "",
       "font_size": null,
       "text_color": null
      }
     },
     "d5a2ef7f1e254301b645ac0e4ed6440f": {
      "model_module": "@jupyter-widgets/base",
      "model_module_version": "2.0.0",
      "model_name": "LayoutModel",
      "state": {
       "_model_module": "@jupyter-widgets/base",
       "_model_module_version": "2.0.0",
       "_model_name": "LayoutModel",
       "_view_count": null,
       "_view_module": "@jupyter-widgets/base",
       "_view_module_version": "2.0.0",
       "_view_name": "LayoutView",
       "align_content": null,
       "align_items": null,
       "align_self": null,
       "border_bottom": null,
       "border_left": null,
       "border_right": null,
       "border_top": null,
       "bottom": null,
       "display": null,
       "flex": null,
       "flex_flow": null,
       "grid_area": null,
       "grid_auto_columns": null,
       "grid_auto_flow": null,
       "grid_auto_rows": null,
       "grid_column": null,
       "grid_gap": null,
       "grid_row": null,
       "grid_template_areas": null,
       "grid_template_columns": null,
       "grid_template_rows": null,
       "height": null,
       "justify_content": null,
       "justify_items": null,
       "left": null,
       "margin": null,
       "max_height": null,
       "max_width": null,
       "min_height": null,
       "min_width": null,
       "object_fit": null,
       "object_position": null,
       "order": null,
       "overflow": null,
       "padding": null,
       "right": null,
       "top": null,
       "visibility": null,
       "width": null
      }
     },
     "e7bf30781b7f46d9b62918e5c0c06462": {
      "model_module": "@jupyter-widgets/controls",
      "model_module_version": "2.0.0",
      "model_name": "HTMLStyleModel",
      "state": {
       "_model_module": "@jupyter-widgets/controls",
       "_model_module_version": "2.0.0",
       "_model_name": "HTMLStyleModel",
       "_view_count": null,
       "_view_module": "@jupyter-widgets/base",
       "_view_module_version": "2.0.0",
       "_view_name": "StyleView",
       "background": null,
       "description_width": "",
       "font_size": null,
       "text_color": null
      }
     },
     "e94f00e661ad453081e469baf6b567fd": {
      "model_module": "@jupyter-widgets/controls",
      "model_module_version": "2.0.0",
      "model_name": "HTMLStyleModel",
      "state": {
       "_model_module": "@jupyter-widgets/controls",
       "_model_module_version": "2.0.0",
       "_model_name": "HTMLStyleModel",
       "_view_count": null,
       "_view_module": "@jupyter-widgets/base",
       "_view_module_version": "2.0.0",
       "_view_name": "StyleView",
       "background": null,
       "description_width": "",
       "font_size": null,
       "text_color": null
      }
     },
     "f399817efcb84c0bba4e45d646b2f196": {
      "model_module": "@jupyter-widgets/controls",
      "model_module_version": "2.0.0",
      "model_name": "HTMLModel",
      "state": {
       "_dom_classes": [],
       "_model_module": "@jupyter-widgets/controls",
       "_model_module_version": "2.0.0",
       "_model_name": "HTMLModel",
       "_view_count": null,
       "_view_module": "@jupyter-widgets/controls",
       "_view_module_version": "2.0.0",
       "_view_name": "HTMLView",
       "description": "",
       "description_allow_html": false,
       "layout": "IPY_MODEL_c745772078e840308dcaaba3299886da",
       "placeholder": "​",
       "style": "IPY_MODEL_2ce1b7ebc4f94fe38d3fdb19a9ec80fc",
       "tabbable": null,
       "tooltip": null,
       "value": "100%"
      }
     },
     "f95c8a6de5d7477abbbc37bfc4a344aa": {
      "model_module": "@jupyter-widgets/base",
      "model_module_version": "2.0.0",
      "model_name": "LayoutModel",
      "state": {
       "_model_module": "@jupyter-widgets/base",
       "_model_module_version": "2.0.0",
       "_model_name": "LayoutModel",
       "_view_count": null,
       "_view_module": "@jupyter-widgets/base",
       "_view_module_version": "2.0.0",
       "_view_name": "LayoutView",
       "align_content": null,
       "align_items": null,
       "align_self": null,
       "border_bottom": null,
       "border_left": null,
       "border_right": null,
       "border_top": null,
       "bottom": null,
       "display": null,
       "flex": null,
       "flex_flow": null,
       "grid_area": null,
       "grid_auto_columns": null,
       "grid_auto_flow": null,
       "grid_auto_rows": null,
       "grid_column": null,
       "grid_gap": null,
       "grid_row": null,
       "grid_template_areas": null,
       "grid_template_columns": null,
       "grid_template_rows": null,
       "height": null,
       "justify_content": null,
       "justify_items": null,
       "left": null,
       "margin": null,
       "max_height": null,
       "max_width": null,
       "min_height": null,
       "min_width": null,
       "object_fit": null,
       "object_position": null,
       "order": null,
       "overflow": null,
       "padding": null,
       "right": null,
       "top": null,
       "visibility": null,
       "width": null
      }
     },
     "f9e7206f4b5c419a8a1b21cc44a1b498": {
      "model_module": "@jupyter-widgets/controls",
      "model_module_version": "2.0.0",
      "model_name": "HTMLModel",
      "state": {
       "_dom_classes": [],
       "_model_module": "@jupyter-widgets/controls",
       "_model_module_version": "2.0.0",
       "_model_name": "HTMLModel",
       "_view_count": null,
       "_view_module": "@jupyter-widgets/controls",
       "_view_module_version": "2.0.0",
       "_view_name": "HTMLView",
       "description": "",
       "description_allow_html": false,
       "layout": "IPY_MODEL_d5a2ef7f1e254301b645ac0e4ed6440f",
       "placeholder": "​",
       "style": "IPY_MODEL_6419c6d35b1b4eac910a2a9b49429bf6",
       "tabbable": null,
       "tooltip": null,
       "value": "100%"
      }
     }
    },
    "version_major": 2,
    "version_minor": 0
   }
  }
 },
 "nbformat": 4,
 "nbformat_minor": 5
}
