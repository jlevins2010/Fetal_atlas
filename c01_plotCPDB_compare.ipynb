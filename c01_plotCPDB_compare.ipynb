{
 "cells": [
  {
   "cell_type": "code",
   "execution_count": 1,
   "id": "3126dd42",
   "metadata": {
    "execution": {
     "iopub.execute_input": "2023-02-13T19:06:48.859134Z",
     "iopub.status.busy": "2023-02-13T19:06:48.858847Z",
     "iopub.status.idle": "2023-02-13T19:06:53.504909Z",
     "shell.execute_reply": "2023-02-13T19:06:53.504132Z"
    }
   },
   "outputs": [],
   "source": [
    "import os\n",
    "import anndata as ad\n",
    "import pandas as pd\n",
    "import ktplotspy as kpy\n",
    "import matplotlib.pyplot as plt"
   ]
  },
  {
   "cell_type": "code",
   "execution_count": 2,
   "id": "777f8fee",
   "metadata": {
    "execution": {
     "iopub.execute_input": "2023-02-13T19:06:53.509900Z",
     "iopub.status.busy": "2023-02-13T19:06:53.509386Z",
     "iopub.status.idle": "2023-02-13T19:06:53.514665Z",
     "shell.execute_reply": "2023-02-13T19:06:53.513972Z"
    }
   },
   "outputs": [],
   "source": [
    "#adata = sc.read_h5ad(\"/home/levinsj/Fetal_dir/CellBenderCorrected/04_annotated/MergedFetalOnly_annotated_Counts.h5ad\")\n",
    "#print(adata)\n",
    "#adata.write_h5ad(filename = \"/home/levinsj/Fetal_dir/CellBenderCorrected/04_annotated/MergedFetalOnly_annotated_Counts.h5ad\")"
   ]
  },
  {
   "cell_type": "markdown",
   "id": "63c91ff1",
   "metadata": {
    "execution": {
     "iopub.execute_input": "2023-01-12T22:12:22.338995Z",
     "iopub.status.busy": "2023-01-12T22:12:22.338546Z",
     "iopub.status.idle": "2023-01-12T22:12:47.411144Z",
     "shell.execute_reply": "2023-01-12T22:12:47.410422Z"
    }
   },
   "source": [
    "Run as command line script:\n",
    "\n",
    "cellphonedb method statistical_analysis /home/levinsj/Fetal_dir/cellPhoneDB/MergedFetalOnly_annotated_Counts_metaData.csv /home/levinsj/Fetal_dir/cellPhoneDB/MergedFetalOnly_mtx.txt --output-path /home/levinsj/Fetal_dir/cellPhoneDB --project-name Fetal\n",
    "\n",
    "cellphonedb method statistical_analysis /home/levinsj/Fetal_dir/cellPhoneDB/MergedAdultOnly_annotated_Counts_metaData.csv /home/levinsj/Fetal_dir/cellPhoneDB/MergedAdultOnly_mtx.txt --output-path /home/levinsj/Fetal_dir/cellPhoneDB --project-name Adult\n"
   ]
  },
  {
   "cell_type": "code",
   "execution_count": 3,
   "id": "34c9c65f",
   "metadata": {
    "execution": {
     "iopub.execute_input": "2023-02-13T19:06:53.518632Z",
     "iopub.status.busy": "2023-02-13T19:06:53.518360Z",
     "iopub.status.idle": "2023-02-13T19:06:58.293386Z",
     "shell.execute_reply": "2023-02-13T19:06:58.292278Z"
    }
   },
   "outputs": [],
   "source": [
    "# read in the files for Fetal\n",
    "# 1) .h5ad file used for performing cellphonedb\n",
    "adata_fetal = ad.read_h5ad(\"/home/levinsj/Fetal_dir/CellBenderCorrected/04_annotated/MergedFetalOnly_annotated_clean_final.h5ad\")\n",
    "\n",
    "# 2) output from cellphonedb\n",
    "means_fetal = pd.read_csv('/home/levinsj/Fetal_dir/cellPhoneDB/Fetal/means.txt', sep = '\\t')\n",
    "pvals_fetal = pd.read_csv('/home/levinsj/Fetal_dir/cellPhoneDB/Fetal/pvalues.txt', sep = '\\t')\n",
    "decon_fetal = pd.read_csv('/home/levinsj/Fetal_dir/cellPhoneDB/Fetal/deconvoluted.txt', sep = '\\t')"
   ]
  },
  {
   "cell_type": "code",
   "execution_count": 4,
   "id": "ebe3471b",
   "metadata": {
    "execution": {
     "iopub.execute_input": "2023-02-13T19:06:58.298492Z",
     "iopub.status.busy": "2023-02-13T19:06:58.298188Z",
     "iopub.status.idle": "2023-02-13T19:07:13.145131Z",
     "shell.execute_reply": "2023-02-13T19:07:13.144333Z"
    }
   },
   "outputs": [],
   "source": [
    "# read in the files for adult\n",
    "# 1) .h5ad file used for performing cellphonedb\n",
    "adata_adult = ad.read_h5ad(\"/home/levinsj/Fetal_dir/CellBenderCorrected/04_annotated/MergedAdultOnly_annotated_clean_final.h5ad\")\n",
    "\n",
    "# 2) output from cellphonedb\n",
    "means_adult = pd.read_csv('/home/levinsj/Fetal_dir/cellPhoneDB/Adult/means.txt', sep = '\\t')\n",
    "pvals_adult = pd.read_csv('/home/levinsj/Fetal_dir/cellPhoneDB/Adult/pvalues.txt', sep = '\\t')\n",
    "decon_adult = pd.read_csv('/home/levinsj/Fetal_dir/cellPhoneDB/Adult/deconvoluted.txt', sep = '\\t')"
   ]
  },
  {
   "cell_type": "code",
   "execution_count": 5,
   "id": "b30a47bd",
   "metadata": {
    "execution": {
     "iopub.execute_input": "2023-02-13T19:07:13.149680Z",
     "iopub.status.busy": "2023-02-13T19:07:13.149394Z",
     "iopub.status.idle": "2023-02-13T19:07:13.261515Z",
     "shell.execute_reply": "2023-02-13T19:07:13.260759Z"
    }
   },
   "outputs": [
    {
     "name": "stdout",
     "output_type": "stream",
     "text": [
      "    gene_name\n",
      "0       KLRD1\n",
      "1       KLRC1\n",
      "2        FLT1\n",
      "3         KDR\n",
      "4      PDGFRA\n",
      "..        ...\n",
      "235      APLN\n",
      "236   RARRES2\n",
      "237   RARRES2\n",
      "238    ANGPT1\n",
      "239     KLRF1\n",
      "\n",
      "[240 rows x 1 columns]\n"
     ]
    }
   ],
   "source": [
    "print(decon_fetal[[\"gene_name\"]])"
   ]
  },
  {
   "cell_type": "code",
   "execution_count": 6,
   "id": "57c2d308",
   "metadata": {
    "execution": {
     "iopub.execute_input": "2023-02-13T19:07:13.265499Z",
     "iopub.status.busy": "2023-02-13T19:07:13.265211Z",
     "iopub.status.idle": "2023-02-13T19:07:13.274313Z",
     "shell.execute_reply": "2023-02-13T19:07:13.273649Z"
    }
   },
   "outputs": [
    {
     "name": "stdout",
     "output_type": "stream",
     "text": [
      "    gene_name\n",
      "0       KLRD1\n",
      "1       KLRD1\n",
      "2       KLRC1\n",
      "3       KLRC2\n",
      "4        FLT1\n",
      "..        ...\n",
      "342      APLN\n",
      "343    CX3CL1\n",
      "344     CCL17\n",
      "345    ANGPT1\n",
      "346     KLRF1\n",
      "\n",
      "[347 rows x 1 columns]\n"
     ]
    }
   ],
   "source": [
    "print(decon_adult[[\"gene_name\"]])"
   ]
  },
  {
   "cell_type": "code",
   "execution_count": 7,
   "id": "f75214cd",
   "metadata": {
    "execution": {
     "iopub.execute_input": "2023-02-13T19:07:13.277999Z",
     "iopub.status.busy": "2023-02-13T19:07:13.277746Z",
     "iopub.status.idle": "2023-02-13T19:07:13.285700Z",
     "shell.execute_reply": "2023-02-13T19:07:13.285028Z"
    }
   },
   "outputs": [
    {
     "name": "stdout",
     "output_type": "stream",
     "text": [
      "[]\n"
     ]
    }
   ],
   "source": [
    "Fetal_specific = list(set(list(decon_fetal[[\"gene_name\"]])) - set(list(decon_adult[[\"gene_name\"]])))\n",
    "\n",
    "print(Fetal_specific)"
   ]
  },
  {
   "cell_type": "code",
   "execution_count": 8,
   "id": "198546cd",
   "metadata": {
    "execution": {
     "iopub.execute_input": "2023-02-13T19:07:13.289323Z",
     "iopub.status.busy": "2023-02-13T19:07:13.289060Z",
     "iopub.status.idle": "2023-02-13T19:07:15.667500Z",
     "shell.execute_reply": "2023-02-13T19:07:15.666545Z"
    }
   },
   "outputs": [
    {
     "name": "stdout",
     "output_type": "stream",
     "text": [
      "anndata==0.8.0\r\n",
      "anyio==3.6.2\r\n",
      "argon2-cffi==21.3.0\r\n",
      "argon2-cffi-bindings==21.2.0\r\n",
      "arrow==1.2.3\r\n",
      "asttokens==2.2.1\r\n",
      "attrs==22.2.0\r\n",
      "backcall==0.2.0\r\n",
      "backports.zoneinfo==0.2.1\r\n",
      "beautifulsoup4==4.11.1\r\n",
      "biopython==1.80\r\n",
      "bleach==6.0.0\r\n",
      "certifi==2022.12.7\r\n",
      "cffi==1.15.1\r\n",
      "charset-normalizer==3.0.1\r\n",
      "comm==0.1.2\r\n",
      "contourpy==1.0.7\r\n",
      "cycler==0.11.0\r\n",
      "debugpy==1.6.6\r\n",
      "decorator==5.1.1\r\n",
      "defusedxml==0.7.1\r\n",
      "entrypoints==0.4\r\n",
      "executing==1.2.0\r\n",
      "fastjsonschema==2.16.2\r\n",
      "fonttools==4.38.0\r\n",
      "fqdn==1.5.1\r\n",
      "h5py==3.8.0\r\n",
      "idna==3.4\r\n",
      "importlib-metadata==6.0.0\r\n",
      "importlib-resources==5.10.2\r\n",
      "ipykernel==6.20.2\r\n",
      "ipython==8.8.0\r\n",
      "ipython-genutils==0.2.0\r\n",
      "ipywidgets==8.0.4\r\n",
      "isoduration==20.11.0\r\n",
      "jedi==0.18.2\r\n",
      "Jinja2==3.1.2\r\n",
      "joblib==1.2.0\r\n",
      "jsonpointer==2.3\r\n",
      "jsonschema==4.17.3\r\n",
      "jupyter==1.0.0\r\n",
      "jupyter-console==6.4.4\r\n",
      "jupyter-events==0.6.3\r\n",
      "jupyter_client==7.4.9\r\n",
      "jupyter_core==5.1.4\r\n",
      "jupyter_server==2.1.0\r\n",
      "jupyter_server_terminals==0.4.4\r\n",
      "jupyterlab-pygments==0.2.2\r\n",
      "jupyterlab-widgets==3.0.5\r\n",
      "kiwisolver==1.4.4\r\n",
      "ktplotspy==0.1.6\r\n",
      "llvmlite==0.39.1\r\n",
      "MarkupSafe==2.1.2\r\n",
      "matplotlib==3.6.3\r\n",
      "matplotlib-inline==0.1.6\r\n",
      "mistune==2.0.4\r\n",
      "mizani==0.8.1\r\n",
      "natsort==8.2.0\r\n",
      "nbclassic==0.4.8\r\n",
      "nbclient==0.7.2\r\n",
      "nbconvert==7.2.8\r\n",
      "nbformat==5.7.3\r\n",
      "nest-asyncio==1.5.6\r\n",
      "networkx==3.0\r\n",
      "notebook==6.5.2\r\n",
      "notebook_shim==0.2.2\r\n",
      "numba==0.56.4\r\n",
      "numpy==1.21.5\r\n",
      "packaging==23.0\r\n",
      "palettable==3.3.0\r\n",
      "pandas==1.4.3\r\n",
      "pandocfilters==1.5.0\r\n",
      "parso==0.8.3\r\n",
      "patsy==0.5.3\r\n",
      "pexpect==4.8.0\r\n",
      "pickleshare==0.7.5\r\n",
      "Pillow==9.4.0\r\n",
      "pkgutil_resolve_name==1.3.10\r\n",
      "platformdirs==2.6.2\r\n",
      "plotnine==0.10.1\r\n",
      "prometheus-client==0.16.0\r\n",
      "prompt-toolkit==3.0.36\r\n",
      "psutil==5.9.4\r\n",
      "ptyprocess==0.7.0\r\n",
      "pure-eval==0.2.2\r\n",
      "pycparser==2.21\r\n",
      "Pygments==2.14.0\r\n",
      "pynndescent==0.5.8\r\n",
      "pyparsing==3.0.9\r\n",
      "pyrsistent==0.19.3\r\n",
      "python-circos==0.3.0\r\n",
      "python-dateutil==2.8.2\r\n",
      "python-json-logger==2.0.4\r\n",
      "pytz==2022.7.1\r\n",
      "PyYAML==6.0\r\n",
      "pyzmq==25.0.0\r\n",
      "qtconsole==5.4.0\r\n",
      "QtPy==2.3.0\r\n",
      "requests==2.28.2\r\n",
      "rfc3339-validator==0.1.4\r\n",
      "rfc3986-validator==0.1.1\r\n",
      "scanpy==1.9.1\r\n",
      "scikit-learn==1.2.0\r\n",
      "scipy==1.10.0\r\n",
      "seaborn==0.12.2\r\n",
      "Send2Trash==1.8.0\r\n",
      "session-info==1.0.0\r\n",
      "six==1.16.0\r\n",
      "sniffio==1.3.0\r\n",
      "soupsieve==2.3.2.post1\r\n",
      "stack-data==0.6.2\r\n",
      "statsmodels==0.13.5\r\n",
      "stdlib-list==0.8.0\r\n",
      "terminado==0.17.1\r\n",
      "threadpoolctl==3.1.0\r\n",
      "tinycss2==1.2.1\r\n",
      "tornado==6.2\r\n",
      "tqdm==4.64.1\r\n",
      "traitlets==5.8.1\r\n",
      "umap-learn==0.5.3\r\n",
      "UpSetPlot==0.8.0\r\n",
      "uri-template==1.2.0\r\n",
      "urllib3==1.26.14\r\n",
      "wcwidth==0.2.6\r\n",
      "webcolors==1.12\r\n",
      "webencodings==0.5.1\r\n",
      "websocket-client==1.4.2\r\n",
      "widgetsnbextension==4.0.5\r\n",
      "zipp==3.11.0\r\n"
     ]
    }
   ],
   "source": [
    "!pip freeze"
   ]
  }
 ],
 "metadata": {
  "kernelspec": {
   "display_name": "Python 3 (ipykernel)",
   "language": "python",
   "name": "python3"
  },
  "language_info": {
   "codemirror_mode": {
    "name": "ipython",
    "version": 3
   },
   "file_extension": ".py",
   "mimetype": "text/x-python",
   "name": "python",
   "nbconvert_exporter": "python",
   "pygments_lexer": "ipython3",
   "version": "3.9.1"
  }
 },
 "nbformat": 4,
 "nbformat_minor": 5
}
